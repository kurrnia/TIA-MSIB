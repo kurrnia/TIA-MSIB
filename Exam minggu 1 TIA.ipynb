{
  "nbformat": 4,
  "nbformat_minor": 0,
  "metadata": {
    "colab": {
      "provenance": [],
      "authorship_tag": "ABX9TyM1O90U/rYHiGj72YJOT0KL",
      "include_colab_link": true
    },
    "kernelspec": {
      "name": "python3",
      "display_name": "Python 3"
    },
    "language_info": {
      "name": "python"
    }
  },
  "cells": [
    {
      "cell_type": "markdown",
      "metadata": {
        "id": "view-in-github",
        "colab_type": "text"
      },
      "source": [
        "<a href=\"https://colab.research.google.com/github/kurrnia/TIA-MSIB/blob/main/Exam%20minggu%201%20TIA.ipynb\" target=\"_parent\"><img src=\"https://colab.research.google.com/assets/colab-badge.svg\" alt=\"Open In Colab\"/></a>"
      ]
    },
    {
      "cell_type": "markdown",
      "source": [
        "# exam minggu 1 TIA\n",
        "## Agung Kurniawan"
      ],
      "metadata": {
        "id": "FYeifNsTWi3q"
      }
    },
    {
      "cell_type": "code",
      "source": [
        "def fibonacci(n):\n",
        "    if n <= 1:\n",
        "        return n\n",
        "    else:\n",
        "        return fibonacci(n-1) + fibonacci(n-2)\n",
        "\n",
        "n = int(input(\"Masukkan Angka: \"))\n",
        "\n",
        "if n <= 0:\n",
        "    print(\"Masukkan Angka Positif\")\n",
        "else:\n",
        "    print(\"Angka Fibonacci ke-\", n, \"adalah\", fibonacci(n))"
      ],
      "metadata": {
        "colab": {
          "base_uri": "https://localhost:8080/"
        },
        "id": "hNNuyPBaRdZp",
        "outputId": "cba0553b-a60b-4c8a-e4f5-49029ff971d4"
      },
      "execution_count": 8,
      "outputs": [
        {
          "output_type": "stream",
          "name": "stdout",
          "text": [
            "Masukkan Angka: 8\n",
            "Angka Fibonacci ke- 8 adalah 21\n"
          ]
        }
      ]
    },
    {
      "cell_type": "code",
      "source": [
        "n = int(input(\"Masukkan Angka: \"))\n",
        "\n",
        "if n <= 0:\n",
        "    print(\"Masukkan Angka Positif\")\n",
        "else:\n",
        "    f1, f2 = 0, 1\n",
        "    for i in range(2, n+1):\n",
        "        fn = f1 + f2\n",
        "        f1, f2 = f2, fn\n",
        "    print(\"Angka Fibonacci ke-\", n, \"adalah\", f2)"
      ],
      "metadata": {
        "colab": {
          "base_uri": "https://localhost:8080/"
        },
        "id": "0_W7EsS3RdSJ",
        "outputId": "9c16f95c-7c85-4d87-a62a-59e91b8f8c1f"
      },
      "execution_count": 7,
      "outputs": [
        {
          "output_type": "stream",
          "name": "stdout",
          "text": [
            "Masukkan Angka: 4\n",
            "Angka Fibonacci ke- 4 adalah 3\n"
          ]
        }
      ]
    },
    {
      "cell_type": "markdown",
      "source": [
        "* apa itu Fibonacci? Fibonacci adalah urutan bilangan yang ditemukan oleh seorang matematikawan Italia bernama Leonardo Fibonacci pada abad ke-13. Urutan bilangan Fibonacci dimulai dari 0 dan 1, kemudian setiap bilangan selanjutnya dihasilkan dengan menjumlahkan dua bilangan sebelumnya, seperti contoh berikut: 0, 1, 1, 2, 3, 5, 8, 13, 21, 34, 55, 89, 144, ...\n",
        "\n",
        "* Pada program no 1 itu menggunakan rekrusi dan reksusi itu sendiri ialah teknik dalam pemrograman dimana suatu fungsi memanggil dirinya sendiri untuk menyelesaikan program. \n",
        "\n",
        "* sementara itu pada program 2 menggunakan iterasi dimana iterasi itu sendiri ialah suatu tindakan atau serangkaian tindakan yang diulang selama 'n' hingga suatu kondisi terpenuhi\n",
        "\n",
        "\n",
        "* perbedaan utama antara kedua pemrograman tersebut ialah nahwa rekrusi dapat memakan banyak memory karena setiap kali fungsi dipanggil akan menambahkan frame stack baru kedalam memori, dan rekrui cenderung lebih sulit dipahami dibandingkan iterasi, namun dalam beberapa kasus rekrusi dapat menjadi kode yang lebih mudah untuk dipahami dan digunakan daripada iterasi\n",
        "\n",
        "* Dalam hal efisiensi, pada umumnya iterasi lebih efisien daripada rekursi, karena tidak memakan banyak memori seperti rekursi dan dapat menyelesaikan tugas lebih cepat karena tidak perlu memanggil fungsi berulang kali."
      ],
      "metadata": {
        "id": "CiE4SdnVR3hA"
      }
    },
    {
      "cell_type": "code",
      "source": [
        "def hitung_vocal_konsonan_kata(kalimat):\n",
        "    vocal = 0\n",
        "    konsonan = 0\n",
        "    kata = 0\n",
        "    \n",
        "    for karakter in kalimat:\n",
        "        if karakter.lower() in 'aiueo':   # hitung huruf vocal\n",
        "            vocal += 1\n",
        "        elif karakter.isalpha():          # hitung huruf konsonan\n",
        "            konsonan += 1\n",
        "    \n",
        "    kata = len(kalimat.split())           # hitung jumlah kata\n",
        "    \n",
        "    return vocal, konsonan, kata          # return\n",
        "\n",
        "kalimat = input(\"Masukkan kalimat: \")\n",
        "vocal, konsonan, kata = hitung_vocal_konsonan_kata(kalimat)\n",
        "print(\"Jumlah huruf vocal:\", vocal)\n",
        "print(\"Jumlah huruf konsonan:\", konsonan)\n",
        "print(\"Jumlah kata:\", kata)"
      ],
      "metadata": {
        "colab": {
          "base_uri": "https://localhost:8080/"
        },
        "id": "U56tsnJ3ROLN",
        "outputId": "0ea6aac3-969d-4fae-bd22-3a59832b7af0"
      },
      "execution_count": 9,
      "outputs": [
        {
          "output_type": "stream",
          "name": "stdout",
          "text": [
            "Masukkan kalimat: agung kurniawan\n",
            "Jumlah huruf vocal: 6\n",
            "Jumlah huruf konsonan: 8\n",
            "Jumlah kata: 2\n"
          ]
        }
      ]
    },
    {
      "cell_type": "code",
      "source": [],
      "metadata": {
        "id": "6sqISRodRcDx"
      },
      "execution_count": null,
      "outputs": []
    },
    {
      "cell_type": "code",
      "source": [],
      "metadata": {
        "id": "w0yIQWQ7RXri"
      },
      "execution_count": null,
      "outputs": []
    },
    {
      "cell_type": "code",
      "source": [],
      "metadata": {
        "id": "McSQBvcQRX0i"
      },
      "execution_count": null,
      "outputs": []
    },
    {
      "cell_type": "code",
      "source": [],
      "metadata": {
        "id": "Cu7aGFUWRX75"
      },
      "execution_count": null,
      "outputs": []
    }
  ]
}
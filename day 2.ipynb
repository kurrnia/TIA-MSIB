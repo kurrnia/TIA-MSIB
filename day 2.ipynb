{
  "nbformat": 4,
  "nbformat_minor": 0,
  "metadata": {
    "colab": {
      "provenance": [],
      "authorship_tag": "ABX9TyM3c35uCEMJgEuf6d4XUHWI",
      "include_colab_link": true
    },
    "kernelspec": {
      "name": "python3",
      "display_name": "Python 3"
    },
    "language_info": {
      "name": "python"
    }
  },
  "cells": [
    {
      "cell_type": "markdown",
      "metadata": {
        "id": "view-in-github",
        "colab_type": "text"
      },
      "source": [
        "<a href=\"https://colab.research.google.com/github/kurrnia/TIA-MSIB/blob/main/day%202.ipynb\" target=\"_parent\"><img src=\"https://colab.research.google.com/assets/colab-badge.svg\" alt=\"Open In Colab\"/></a>"
      ]
    },
    {
      "cell_type": "code",
      "execution_count": 1,
      "metadata": {
        "colab": {
          "base_uri": "https://localhost:8080/"
        },
        "id": "KTeoI6BXw3L0",
        "outputId": "98a2a288-1cc0-4cac-9536-02729a3e556c"
      },
      "outputs": [
        {
          "output_type": "stream",
          "name": "stdout",
          "text": [
            "indonesia merdeka\n",
            "indonesia merdeka\n",
            "indonesia merdeka\n",
            "indonesia merdeka\n",
            "indonesia merdeka\n",
            "indonesia merdeka\n"
          ]
        }
      ],
      "source": [
        "for x in range(6):\n",
        "  print('indonesia merdeka')"
      ]
    },
    {
      "cell_type": "code",
      "source": [
        "for z in range(10):\n",
        "  print('Agung Kurniawan')"
      ],
      "metadata": {
        "colab": {
          "base_uri": "https://localhost:8080/"
        },
        "id": "3zqV9wrjxoPD",
        "outputId": "9e0a816f-90a1-4832-a35d-3c67ccc36a5a"
      },
      "execution_count": 7,
      "outputs": [
        {
          "output_type": "stream",
          "name": "stdout",
          "text": [
            "Agung Kurniawan\n",
            "Agung Kurniawan\n",
            "Agung Kurniawan\n",
            "Agung Kurniawan\n",
            "Agung Kurniawan\n",
            "Agung Kurniawan\n",
            "Agung Kurniawan\n",
            "Agung Kurniawan\n",
            "Agung Kurniawan\n",
            "Agung Kurniawan\n"
          ]
        }
      ]
    },
    {
      "cell_type": "code",
      "source": [
        "b = 0\n",
        "while b<10:\n",
        "  print('Agung Kurniawan')\n",
        "  b +=1"
      ],
      "metadata": {
        "colab": {
          "base_uri": "https://localhost:8080/"
        },
        "id": "FleH_jvqxoaG",
        "outputId": "1c1ba7dc-0517-4ee3-c7ca-762734a4315a"
      },
      "execution_count": 3,
      "outputs": [
        {
          "output_type": "stream",
          "name": "stdout",
          "text": [
            "Agung Kurniawan\n",
            "Agung Kurniawan\n",
            "Agung Kurniawan\n",
            "Agung Kurniawan\n",
            "Agung Kurniawan\n",
            "Agung Kurniawan\n",
            "Agung Kurniawan\n",
            "Agung Kurniawan\n",
            "Agung Kurniawan\n",
            "Agung Kurniawan\n"
          ]
        }
      ]
    },
    {
      "cell_type": "code",
      "source": [
        "c = int (input('Masukan Angka:'))\n",
        "faktorial =1\n",
        "for i in range(1, c +1):\n",
        "  faktorial *= i\n",
        "\n",
        "print('Faktorial dari',c, 'adalah', faktorial)"
      ],
      "metadata": {
        "colab": {
          "base_uri": "https://localhost:8080/"
        },
        "id": "t_aH2U2xxoi8",
        "outputId": "4dfe89bb-2cd9-4527-f720-6fb400d31277"
      },
      "execution_count": 6,
      "outputs": [
        {
          "output_type": "stream",
          "name": "stdout",
          "text": [
            "Masukan Angka:6\n",
            "Faktorial dari 6 adalah 720\n"
          ]
        }
      ]
    },
    {
      "cell_type": "code",
      "source": [
        "n = int(input(\"Masukkan Angka Bilangan Bulat: \"))\n",
        "\n",
        "for i in range(1, n+1):\n",
        "    if i % 2 == 0:\n",
        "        print(\"Angka\", i, \"adalah Genap\")\n",
        "    else:\n",
        "        print(\"Angka\", i, \"adalah Ganjil\")"
      ],
      "metadata": {
        "colab": {
          "base_uri": "https://localhost:8080/"
        },
        "id": "M-lAUrsWxoqH",
        "outputId": "b7d02b03-ad79-42c1-c3ce-25c984460dc3"
      },
      "execution_count": 8,
      "outputs": [
        {
          "output_type": "stream",
          "name": "stdout",
          "text": [
            "Masukkan angka: 9\n",
            "Angka 1 adalah Ganjil\n",
            "Angka 2 adalah Genap\n",
            "Angka 3 adalah Ganjil\n",
            "Angka 4 adalah Genap\n",
            "Angka 5 adalah Ganjil\n",
            "Angka 6 adalah Genap\n",
            "Angka 7 adalah Ganjil\n",
            "Angka 8 adalah Genap\n",
            "Angka 9 adalah Ganjil\n"
          ]
        }
      ]
    },
    {
      "cell_type": "code",
      "source": [
        "a = int(input(\"Masukkan Angka: \"))\n",
        "\n",
        "for x in range(1, a+1):\n",
        "    for y in range(1, x+1):\n",
        "        print(\"*\", end=\"\")\n",
        "    print(\"\")\n",
        "print(\"Selesai\")"
      ],
      "metadata": {
        "colab": {
          "base_uri": "https://localhost:8080/"
        },
        "id": "2ZHRUW7KxpA_",
        "outputId": "29ca076a-dabd-4e1f-c43b-9455d2958b47"
      },
      "execution_count": 18,
      "outputs": [
        {
          "output_type": "stream",
          "name": "stdout",
          "text": [
            "Masukkan Angka: 8\n",
            "*\n",
            "**\n",
            "***\n",
            "****\n",
            "*****\n",
            "******\n",
            "*******\n",
            "********\n",
            "Selesai\n"
          ]
        }
      ]
    },
    {
      "cell_type": "code",
      "source": [],
      "metadata": {
        "id": "PY5nTUKGxpMG"
      },
      "execution_count": null,
      "outputs": []
    },
    {
      "cell_type": "code",
      "source": [],
      "metadata": {
        "id": "TZ2UekLUxpSH"
      },
      "execution_count": null,
      "outputs": []
    },
    {
      "cell_type": "code",
      "source": [],
      "metadata": {
        "id": "-CT5rLZ3xpX8"
      },
      "execution_count": null,
      "outputs": []
    },
    {
      "cell_type": "code",
      "source": [],
      "metadata": {
        "id": "jczXg2pGxpen"
      },
      "execution_count": null,
      "outputs": []
    },
    {
      "cell_type": "code",
      "source": [],
      "metadata": {
        "id": "yDqMlw1bxpkP"
      },
      "execution_count": null,
      "outputs": []
    },
    {
      "cell_type": "code",
      "source": [],
      "metadata": {
        "id": "8nBGxArRxpqc"
      },
      "execution_count": null,
      "outputs": []
    },
    {
      "cell_type": "code",
      "source": [],
      "metadata": {
        "id": "_aQyzCItxpwR"
      },
      "execution_count": null,
      "outputs": []
    },
    {
      "cell_type": "code",
      "source": [],
      "metadata": {
        "id": "-3Jm3VKtxp14"
      },
      "execution_count": null,
      "outputs": []
    },
    {
      "cell_type": "code",
      "source": [],
      "metadata": {
        "id": "MPfalM-fxp8E"
      },
      "execution_count": null,
      "outputs": []
    },
    {
      "cell_type": "code",
      "source": [],
      "metadata": {
        "id": "2RYy6ursxqCl"
      },
      "execution_count": null,
      "outputs": []
    }
  ]
}
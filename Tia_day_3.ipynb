{
  "nbformat": 4,
  "nbformat_minor": 0,
  "metadata": {
    "colab": {
      "provenance": [],
      "authorship_tag": "ABX9TyP5XkIMUAq14pjAHotq+qcj",
      "include_colab_link": true
    },
    "kernelspec": {
      "name": "python3",
      "display_name": "Python 3"
    },
    "language_info": {
      "name": "python"
    }
  },
  "cells": [
    {
      "cell_type": "markdown",
      "metadata": {
        "id": "view-in-github",
        "colab_type": "text"
      },
      "source": [
        "<a href=\"https://colab.research.google.com/github/kurrnia/TIA-MSIB/blob/main/Tia_day_3.ipynb\" target=\"_parent\"><img src=\"https://colab.research.google.com/assets/colab-badge.svg\" alt=\"Open In Colab\"/></a>"
      ]
    },
    {
      "cell_type": "code",
      "execution_count": 1,
      "metadata": {
        "colab": {
          "base_uri": "https://localhost:8080/"
        },
        "id": "7h81sklJ3q5p",
        "outputId": "c27a2efa-63f8-40f4-c427-fc17d4955459"
      },
      "outputs": [
        {
          "output_type": "stream",
          "name": "stdout",
          "text": [
            "['apel', 'pisang', 'mangga']\n"
          ]
        }
      ],
      "source": [
        "alist=[\"apel\",\"pisang\",\"mangga\"]\n",
        "print(alist)"
      ]
    },
    {
      "cell_type": "code",
      "source": [
        "print(len(alist))"
      ],
      "metadata": {
        "colab": {
          "base_uri": "https://localhost:8080/"
        },
        "id": "mlg5W8fR65v3",
        "outputId": "bd554c2e-7d04-4378-ff00-ffafa5b7e610"
      },
      "execution_count": 2,
      "outputs": [
        {
          "output_type": "stream",
          "name": "stdout",
          "text": [
            "3\n"
          ]
        }
      ]
    },
    {
      "cell_type": "code",
      "source": [
        "print(type(alist))"
      ],
      "metadata": {
        "colab": {
          "base_uri": "https://localhost:8080/"
        },
        "id": "Kg5Vgo4b66JQ",
        "outputId": "be30da6d-7387-4ebc-d143-64c5778982a1"
      },
      "execution_count": 3,
      "outputs": [
        {
          "output_type": "stream",
          "name": "stdout",
          "text": [
            "<class 'list'>\n"
          ]
        }
      ]
    },
    {
      "cell_type": "code",
      "source": [
        "alist[0]=\"leci\"\n",
        "\n",
        "alist[1:2]=[\"kiwi\",\"manggo\"]\n",
        "print(alist)"
      ],
      "metadata": {
        "colab": {
          "base_uri": "https://localhost:8080/"
        },
        "id": "lmzf4OfI66SE",
        "outputId": "d098b096-17ad-445c-d4f6-c1861b000d30"
      },
      "execution_count": 4,
      "outputs": [
        {
          "output_type": "stream",
          "name": "stdout",
          "text": [
            "['leci', 'kiwi', 'manggo', 'mangga']\n"
          ]
        }
      ]
    },
    {
      "cell_type": "code",
      "source": [
        "alist.insert(1,\"semangka\")"
      ],
      "metadata": {
        "id": "GIuuLL4C66Zo"
      },
      "execution_count": 5,
      "outputs": []
    },
    {
      "cell_type": "code",
      "source": [
        "print(alist)"
      ],
      "metadata": {
        "colab": {
          "base_uri": "https://localhost:8080/"
        },
        "id": "o55zFT3F66iQ",
        "outputId": "e6472c56-1dcd-43fd-900f-8da0b924fe7e"
      },
      "execution_count": 6,
      "outputs": [
        {
          "output_type": "stream",
          "name": "stdout",
          "text": [
            "['leci', 'semangka', 'kiwi', 'manggo', 'mangga']\n"
          ]
        }
      ]
    },
    {
      "cell_type": "code",
      "source": [
        "alist.append(\"duku\")\n",
        "print(alist)"
      ],
      "metadata": {
        "colab": {
          "base_uri": "https://localhost:8080/"
        },
        "id": "jp5BAwzm66pg",
        "outputId": "f73e29af-6b4f-48bc-8a98-49683745726e"
      },
      "execution_count": 7,
      "outputs": [
        {
          "output_type": "stream",
          "name": "stdout",
          "text": [
            "['leci', 'semangka', 'kiwi', 'manggo', 'mangga', 'duku']\n"
          ]
        }
      ]
    },
    {
      "cell_type": "code",
      "source": [
        "blist=[\"pepaya\",\"nanas\"]"
      ],
      "metadata": {
        "id": "t1vGbHrN66x2"
      },
      "execution_count": 9,
      "outputs": []
    },
    {
      "cell_type": "code",
      "source": [
        "alist.extend(blist)\n",
        "print(alist)"
      ],
      "metadata": {
        "colab": {
          "base_uri": "https://localhost:8080/"
        },
        "id": "urFYPm2_665Z",
        "outputId": "d458b730-5f69-4dec-ffb0-bdb93983bfde"
      },
      "execution_count": 10,
      "outputs": [
        {
          "output_type": "stream",
          "name": "stdout",
          "text": [
            "['leci', 'semangka', 'kiwi', 'manggo', 'mangga', 'duku', 'pepaya', 'nanas']\n"
          ]
        }
      ]
    },
    {
      "cell_type": "code",
      "source": [
        "# menghapus besagian list\n",
        "alist.remove(\"duku\")\n",
        "print(alist)"
      ],
      "metadata": {
        "colab": {
          "base_uri": "https://localhost:8080/"
        },
        "id": "tYZN--UXA7i3",
        "outputId": "90b09c40-063b-4235-d0b0-f93fdcd64bb3"
      },
      "execution_count": 11,
      "outputs": [
        {
          "output_type": "stream",
          "name": "stdout",
          "text": [
            "['leci', 'semangka', 'kiwi', 'manggo', 'mangga', 'pepaya', 'nanas']\n"
          ]
        }
      ]
    },
    {
      "cell_type": "code",
      "source": [
        "# menghapus berdasarkan nomor index\n",
        "alist.pop(2)\n",
        "print(alist)"
      ],
      "metadata": {
        "colab": {
          "base_uri": "https://localhost:8080/"
        },
        "id": "B1rcJjR7BMOX",
        "outputId": "e5573d72-8c99-4a66-bda8-4a8355d2d644"
      },
      "execution_count": 12,
      "outputs": [
        {
          "output_type": "stream",
          "name": "stdout",
          "text": [
            "['leci', 'semangka', 'manggo', 'mangga', 'pepaya', 'nanas']\n"
          ]
        }
      ]
    },
    {
      "cell_type": "code",
      "source": [
        "alist=[\"apel\",\"pisang\",\"mangga\"]\n",
        "for x in alist:\n",
        "  print(x)"
      ],
      "metadata": {
        "colab": {
          "base_uri": "https://localhost:8080/"
        },
        "id": "HMk_VnDyBTvv",
        "outputId": "e3c55aa0-39b0-481c-8e0b-e0c3adf412bc"
      },
      "execution_count": 13,
      "outputs": [
        {
          "output_type": "stream",
          "name": "stdout",
          "text": [
            "apel\n",
            "pisang\n",
            "mangga\n"
          ]
        }
      ]
    },
    {
      "cell_type": "code",
      "source": [
        "alist=[\"apel\",\"pisang\",\"mangga\"]\n",
        "for y in range (len(alist)):\n",
        "  print(alist[y])"
      ],
      "metadata": {
        "colab": {
          "base_uri": "https://localhost:8080/"
        },
        "id": "n2cEjPV3BT6f",
        "outputId": "ae371fdf-bb2a-4374-a274-ea8d0e3dddb1"
      },
      "execution_count": 14,
      "outputs": [
        {
          "output_type": "stream",
          "name": "stdout",
          "text": [
            "apel\n",
            "pisang\n",
            "mangga\n"
          ]
        }
      ]
    },
    {
      "cell_type": "code",
      "source": [
        "fruits=[\"apple\", \"banana\", \"cherry\",\"kiwi\",\"manggo\"]\n",
        "newlist=[]\n",
        "\n",
        "for x in fruits:\n",
        "  if \"a\" in x:\n",
        "    newlist.append(x)\n",
        "\n",
        "print(newlist)"
      ],
      "metadata": {
        "colab": {
          "base_uri": "https://localhost:8080/"
        },
        "id": "RAei2dFBBUBZ",
        "outputId": "07e58686-0116-4627-d515-1d7c128d9bd6"
      },
      "execution_count": 16,
      "outputs": [
        {
          "output_type": "stream",
          "name": "stdout",
          "text": [
            "['apple', 'banana', 'manggo']\n"
          ]
        }
      ]
    },
    {
      "cell_type": "code",
      "source": [
        "kata = input(\"Masukkan sebuah kata: \") \n",
        "reversed_kata = kata[::-1] \n",
        "\n",
        "if kata == reversed_kata:\n",
        "    print(\"Kata\", kata ,\"palindrom\")\n",
        "else:\n",
        "    print(\"Kata\" , kata , \"tidak palindrom\")"
      ],
      "metadata": {
        "colab": {
          "base_uri": "https://localhost:8080/"
        },
        "id": "YpaVsSKjGOdD",
        "outputId": "16c9ff22-3875-47e3-b8a5-583fb19cc107"
      },
      "execution_count": 20,
      "outputs": [
        {
          "output_type": "stream",
          "name": "stdout",
          "text": [
            "Masukkan sebuah kata: maxim\n",
            "Kata maxim tidak palindrom\n"
          ]
        }
      ]
    },
    {
      "cell_type": "code",
      "source": [
        "kata = input(\"Masukkan Kata: \")\n",
        "list_kata = list(kata)\n",
        "reversed_list_kata = list(reversed(kata))\n",
        "if list_kata == reversed_list_kata:\n",
        "    print(\"Kata\", kata, \"adalah Palindrom\")\n",
        "else:\n",
        "    print(\"Kata\", kata, \"bukan Palindrom\")"
      ],
      "metadata": {
        "colab": {
          "base_uri": "https://localhost:8080/"
        },
        "id": "_ONIKk13GOpU",
        "outputId": "bcaa3975-f3ac-4c2c-b280-e6e50873fc38"
      },
      "execution_count": 21,
      "outputs": [
        {
          "output_type": "stream",
          "name": "stdout",
          "text": [
            "Masukkan Kata: maxim\n",
            "Kata maxim bukan Palindrom\n"
          ]
        }
      ]
    },
    {
      "cell_type": "code",
      "source": [
        "def pangkat (x):\n",
        "  if x ==0:\n",
        "    return 1\n",
        "  else:\n",
        "    return x * pangkat(x-1)\n",
        "angka = int(input(\"Masukkan bilangan bulat positif: \"))\n",
        "if angka < 0:\n",
        "    print(\"Maaf, bilangan harus positif.\")\n",
        "else:\n",
        "    print(\"Faktorial dari\", angka, \"adalah\", pangkat(angka))"
      ],
      "metadata": {
        "colab": {
          "base_uri": "https://localhost:8080/"
        },
        "id": "gziEO91gGOwv",
        "outputId": "c41f49bd-9c8c-4b02-c98b-77c2b1ff66e3"
      },
      "execution_count": 27,
      "outputs": [
        {
          "output_type": "stream",
          "name": "stdout",
          "text": [
            "Masukkan bilangan bulat positif: 4\n",
            "Faktorial dari 4 adalah 24\n"
          ]
        }
      ]
    },
    {
      "cell_type": "code",
      "source": [
        "def faktorial(n):\n",
        "    if n == 0:\n",
        "        return 1\n",
        "    else:\n",
        "        return n * faktorial(n-1)\n",
        "\n",
        "angka = int(input(\"Masukkan bilangan bulat positif: \"))\n",
        "\n",
        "if angka < 0:\n",
        "    print(\"Maaf, bilangan harus positif.\")\n",
        "else:\n",
        "    print(\"Faktorial dari\", angka, \"adalah\", faktorial(angka))"
      ],
      "metadata": {
        "id": "R8RMGwcuGO35"
      },
      "execution_count": null,
      "outputs": []
    },
    {
      "cell_type": "code",
      "source": [],
      "metadata": {
        "id": "8tIudjEUGO-D"
      },
      "execution_count": null,
      "outputs": []
    },
    {
      "cell_type": "code",
      "source": [],
      "metadata": {
        "id": "EvZRHB-3GPEp"
      },
      "execution_count": null,
      "outputs": []
    },
    {
      "cell_type": "code",
      "source": [],
      "metadata": {
        "id": "dfRuXl8EGPKm"
      },
      "execution_count": null,
      "outputs": []
    },
    {
      "cell_type": "code",
      "source": [],
      "metadata": {
        "id": "IJ12JqYAGPQQ"
      },
      "execution_count": null,
      "outputs": []
    },
    {
      "cell_type": "code",
      "source": [],
      "metadata": {
        "id": "FSL0uIDeGPW6"
      },
      "execution_count": null,
      "outputs": []
    }
  ]
}
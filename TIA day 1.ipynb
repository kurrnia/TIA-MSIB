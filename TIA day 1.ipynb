{
  "nbformat": 4,
  "nbformat_minor": 0,
  "metadata": {
    "colab": {
      "provenance": [],
      "authorship_tag": "ABX9TyMrORdNBFF/llkW2l23Ipy2",
      "include_colab_link": true
    },
    "kernelspec": {
      "name": "python3",
      "display_name": "Python 3"
    },
    "language_info": {
      "name": "python"
    }
  },
  "cells": [
    {
      "cell_type": "markdown",
      "metadata": {
        "id": "view-in-github",
        "colab_type": "text"
      },
      "source": [
        "<a href=\"https://colab.research.google.com/github/kurrnia/TIA-MSIB/blob/main/TIA%20day%201.ipynb\" target=\"_parent\"><img src=\"https://colab.research.google.com/assets/colab-badge.svg\" alt=\"Open In Colab\"/></a>"
      ]
    },
    {
      "cell_type": "markdown",
      "source": [
        "# Opening TIA "
      ],
      "metadata": {
        "id": "IpQnwHw5A5Ih"
      }
    },
    {
      "cell_type": "code",
      "execution_count": 1,
      "metadata": {
        "colab": {
          "base_uri": "https://localhost:8080/"
        },
        "id": "t15r1-ZhADG3",
        "outputId": "c52867d7-ad30-4fed-b66d-29dae6c25cd1"
      },
      "outputs": [
        {
          "output_type": "stream",
          "name": "stdout",
          "text": [
            "Hello Indonesia\n"
          ]
        }
      ],
      "source": [
        "print(\"Hello Indonesia\")"
      ]
    },
    {
      "cell_type": "code",
      "source": [
        "print(\"Agung Kurniawan\")"
      ],
      "metadata": {
        "colab": {
          "base_uri": "https://localhost:8080/"
        },
        "id": "qYC_IwiyAOQ8",
        "outputId": "3c3005a6-561e-4420-c82e-f0f8bba47a1b"
      },
      "execution_count": 2,
      "outputs": [
        {
          "output_type": "stream",
          "name": "stdout",
          "text": [
            "Agung Kurniawan\n"
          ]
        }
      ]
    },
    {
      "cell_type": "code",
      "source": [
        "a=10\n",
        "print(a)"
      ],
      "metadata": {
        "colab": {
          "base_uri": "https://localhost:8080/"
        },
        "id": "kgB89yadA8ZC",
        "outputId": "83086a15-e84d-4c9c-a683-7779f3141686"
      },
      "execution_count": 4,
      "outputs": [
        {
          "output_type": "stream",
          "name": "stdout",
          "text": [
            "10\n"
          ]
        }
      ]
    },
    {
      "cell_type": "code",
      "source": [
        "print(a)"
      ],
      "metadata": {
        "colab": {
          "base_uri": "https://localhost:8080/"
        },
        "id": "iu25irx3A8kA",
        "outputId": "6ed6dc0a-f3e4-490e-b355-aee746620690"
      },
      "execution_count": 5,
      "outputs": [
        {
          "output_type": "stream",
          "name": "stdout",
          "text": [
            "10\n"
          ]
        }
      ]
    },
    {
      "cell_type": "code",
      "source": [
        "a=30\n",
        "print(\"Nilai a sekarang :\" ,a)"
      ],
      "metadata": {
        "colab": {
          "base_uri": "https://localhost:8080/"
        },
        "id": "4P9dPHwMA8q4",
        "outputId": "dc7579ea-c2e0-43d1-91fb-7be04d5250b2"
      },
      "execution_count": 6,
      "outputs": [
        {
          "output_type": "stream",
          "name": "stdout",
          "text": [
            "Nilai a sekarang : 30\n"
          ]
        }
      ]
    },
    {
      "cell_type": "code",
      "source": [
        "x = input('Masukan nama anda :')\n",
        "print('Hallo,' + x)"
      ],
      "metadata": {
        "colab": {
          "base_uri": "https://localhost:8080/"
        },
        "id": "CP-4q7hBC3Hn",
        "outputId": "0aff2a04-b71c-45a7-9adc-67323a47d3ed"
      },
      "execution_count": 7,
      "outputs": [
        {
          "output_type": "stream",
          "name": "stdout",
          "text": [
            "Masukan nama anda :Agung Kurniawan\n",
            "Hallo,Agung Kurniawan\n"
          ]
        }
      ]
    },
    {
      "cell_type": "code",
      "source": [
        "x = input('Masukan Umur Anda:')\n",
        "print('Umur'+ x)"
      ],
      "metadata": {
        "colab": {
          "base_uri": "https://localhost:8080/"
        },
        "id": "WtJkhuyCDDRh",
        "outputId": "d48e9ede-171b-4992-bafa-56a8b19d99d0"
      },
      "execution_count": 12,
      "outputs": [
        {
          "output_type": "stream",
          "name": "stdout",
          "text": [
            "Masukan Umur Anda:21\n",
            "Umur21\n"
          ]
        }
      ]
    },
    {
      "cell_type": "code",
      "source": [
        "x = 5\n",
        "y = 'Jhon'\n",
        "z = 43.25\n",
        "print (x,y,z)"
      ],
      "metadata": {
        "colab": {
          "base_uri": "https://localhost:8080/"
        },
        "id": "5_v8C5vjFKeW",
        "outputId": "0fef3e43-59af-4e21-c1f0-99d2a191acca"
      },
      "execution_count": 13,
      "outputs": [
        {
          "output_type": "stream",
          "name": "stdout",
          "text": [
            "5 Jhon 43.25\n"
          ]
        }
      ]
    },
    {
      "cell_type": "code",
      "source": [
        "x = 4\n",
        "x = 'Sally'\n",
        "print (x)"
      ],
      "metadata": {
        "colab": {
          "base_uri": "https://localhost:8080/"
        },
        "id": "vnkHnl37GINS",
        "outputId": "aaf05b42-4295-4968-ae46-2b3a5e3a2542"
      },
      "execution_count": 14,
      "outputs": [
        {
          "output_type": "stream",
          "name": "stdout",
          "text": [
            "Sally\n"
          ]
        }
      ]
    },
    {
      "cell_type": "code",
      "source": [
        "panjang = float(input('Masukan Panjang:'))\n",
        "lebar = float(input('Masukan Lebar:'))\n",
        "luas = panjang*lebar\n",
        "print('Hasilnya Adalah:' +str(luas))"
      ],
      "metadata": {
        "colab": {
          "base_uri": "https://localhost:8080/"
        },
        "id": "68Pis5HoLWhX",
        "outputId": "e99ecc25-aa43-48cb-a0cf-f5d6cf6d3717"
      },
      "execution_count": 24,
      "outputs": [
        {
          "output_type": "stream",
          "name": "stdout",
          "text": [
            "Masukan Panjang:5\n",
            "Masukan Lebar:2\n",
            "Hasilnya Adalah:10.0\n"
          ]
        }
      ]
    },
    {
      "cell_type": "code",
      "source": [
        "# Menghitung luas segitiga\n",
        "x = float(input('Masukan Panjang:'))\n",
        "y = float(input('Masukan Tinggi:'))\n",
        "z = x*y\n",
        "print('Hasilnya Adalah:' +str(z))"
      ],
      "metadata": {
        "colab": {
          "base_uri": "https://localhost:8080/"
        },
        "id": "DFhMyXe-GRyR",
        "outputId": "f76470ff-9e5b-411a-f0fa-cde31898e7bb"
      },
      "execution_count": 25,
      "outputs": [
        {
          "output_type": "stream",
          "name": "stdout",
          "text": [
            "Masukan Panjang:6\n",
            "Masukan Tinggi:4\n",
            "Hasilnya Adalah:24.0\n"
          ]
        }
      ]
    }
  ]
}
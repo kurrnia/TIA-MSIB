{
  "nbformat": 4,
  "nbformat_minor": 0,
  "metadata": {
    "colab": {
      "provenance": [],
      "authorship_tag": "ABX9TyP5PJCwNph/j4DctuqHecBv",
      "include_colab_link": true
    },
    "kernelspec": {
      "name": "python3",
      "display_name": "Python 3"
    },
    "language_info": {
      "name": "python"
    }
  },
  "cells": [
    {
      "cell_type": "markdown",
      "metadata": {
        "id": "view-in-github",
        "colab_type": "text"
      },
      "source": [
        "<a href=\"https://colab.research.google.com/github/kurrnia/TIA-MSIB/blob/main/TIA%20day%201.ipynb\" target=\"_parent\"><img src=\"https://colab.research.google.com/assets/colab-badge.svg\" alt=\"Open In Colab\"/></a>"
      ]
    },
    {
      "cell_type": "markdown",
      "source": [
        "# Opening TIA "
      ],
      "metadata": {
        "id": "IpQnwHw5A5Ih"
      }
    },
    {
      "cell_type": "markdown",
      "source": [
        "INPUT -> PROSES -> OUTPUT\n",
        "\n",
        "Input adalah bagian mendapatkan data\n",
        "\n",
        "Proses adalah "
      ],
      "metadata": {
        "id": "tTPhoXfIj-XU"
      }
    },
    {
      "cell_type": "code",
      "execution_count": null,
      "metadata": {
        "colab": {
          "base_uri": "https://localhost:8080/"
        },
        "id": "t15r1-ZhADG3",
        "outputId": "c52867d7-ad30-4fed-b66d-29dae6c25cd1"
      },
      "outputs": [
        {
          "output_type": "stream",
          "name": "stdout",
          "text": [
            "Hello Indonesia\n"
          ]
        }
      ],
      "source": [
        "print(\"Hello Indonesia\")"
      ]
    },
    {
      "cell_type": "code",
      "source": [
        "print(\"Agung Kurniawan\")"
      ],
      "metadata": {
        "colab": {
          "base_uri": "https://localhost:8080/"
        },
        "id": "qYC_IwiyAOQ8",
        "outputId": "3c3005a6-561e-4420-c82e-f0f8bba47a1b"
      },
      "execution_count": null,
      "outputs": [
        {
          "output_type": "stream",
          "name": "stdout",
          "text": [
            "Agung Kurniawan\n"
          ]
        }
      ]
    },
    {
      "cell_type": "code",
      "source": [
        "a=10\n",
        "print(a)"
      ],
      "metadata": {
        "colab": {
          "base_uri": "https://localhost:8080/"
        },
        "id": "kgB89yadA8ZC",
        "outputId": "83086a15-e84d-4c9c-a683-7779f3141686"
      },
      "execution_count": null,
      "outputs": [
        {
          "output_type": "stream",
          "name": "stdout",
          "text": [
            "10\n"
          ]
        }
      ]
    },
    {
      "cell_type": "code",
      "source": [
        "print(a)"
      ],
      "metadata": {
        "colab": {
          "base_uri": "https://localhost:8080/"
        },
        "id": "iu25irx3A8kA",
        "outputId": "6ed6dc0a-f3e4-490e-b355-aee746620690"
      },
      "execution_count": null,
      "outputs": [
        {
          "output_type": "stream",
          "name": "stdout",
          "text": [
            "10\n"
          ]
        }
      ]
    },
    {
      "cell_type": "code",
      "source": [
        "a=30\n",
        "print(\"Nilai a sekarang :\" ,a)"
      ],
      "metadata": {
        "colab": {
          "base_uri": "https://localhost:8080/"
        },
        "id": "4P9dPHwMA8q4",
        "outputId": "dc7579ea-c2e0-43d1-91fb-7be04d5250b2"
      },
      "execution_count": null,
      "outputs": [
        {
          "output_type": "stream",
          "name": "stdout",
          "text": [
            "Nilai a sekarang : 30\n"
          ]
        }
      ]
    },
    {
      "cell_type": "code",
      "source": [
        "x = input('Masukan nama anda :')\n",
        "print('Hallo,' + x)"
      ],
      "metadata": {
        "colab": {
          "base_uri": "https://localhost:8080/"
        },
        "id": "CP-4q7hBC3Hn",
        "outputId": "0aff2a04-b71c-45a7-9adc-67323a47d3ed"
      },
      "execution_count": null,
      "outputs": [
        {
          "output_type": "stream",
          "name": "stdout",
          "text": [
            "Masukan nama anda :Agung Kurniawan\n",
            "Hallo,Agung Kurniawan\n"
          ]
        }
      ]
    },
    {
      "cell_type": "code",
      "source": [
        "x = input('Masukan Umur Anda:')\n",
        "print('Umur'+ x)"
      ],
      "metadata": {
        "colab": {
          "base_uri": "https://localhost:8080/"
        },
        "id": "WtJkhuyCDDRh",
        "outputId": "d48e9ede-171b-4992-bafa-56a8b19d99d0"
      },
      "execution_count": null,
      "outputs": [
        {
          "output_type": "stream",
          "name": "stdout",
          "text": [
            "Masukan Umur Anda:21\n",
            "Umur21\n"
          ]
        }
      ]
    },
    {
      "cell_type": "code",
      "source": [
        "x = 5\n",
        "y = 'Jhon'\n",
        "z = 43.25\n",
        "print (x,y,z)"
      ],
      "metadata": {
        "colab": {
          "base_uri": "https://localhost:8080/"
        },
        "id": "5_v8C5vjFKeW",
        "outputId": "0fef3e43-59af-4e21-c1f0-99d2a191acca"
      },
      "execution_count": null,
      "outputs": [
        {
          "output_type": "stream",
          "name": "stdout",
          "text": [
            "5 Jhon 43.25\n"
          ]
        }
      ]
    },
    {
      "cell_type": "code",
      "source": [
        "x = 4\n",
        "x = 'Sally'\n",
        "print (x)"
      ],
      "metadata": {
        "colab": {
          "base_uri": "https://localhost:8080/"
        },
        "id": "vnkHnl37GINS",
        "outputId": "aaf05b42-4295-4968-ae46-2b3a5e3a2542"
      },
      "execution_count": null,
      "outputs": [
        {
          "output_type": "stream",
          "name": "stdout",
          "text": [
            "Sally\n"
          ]
        }
      ]
    },
    {
      "cell_type": "code",
      "source": [
        "panjang = float(input('Masukan Panjang:'))\n",
        "lebar = float(input('Masukan Lebar:'))\n",
        "luas = panjang*lebar\n",
        "print('Hasilnya Adalah:' +str(luas))"
      ],
      "metadata": {
        "colab": {
          "base_uri": "https://localhost:8080/"
        },
        "id": "68Pis5HoLWhX",
        "outputId": "e99ecc25-aa43-48cb-a0cf-f5d6cf6d3717"
      },
      "execution_count": null,
      "outputs": [
        {
          "output_type": "stream",
          "name": "stdout",
          "text": [
            "Masukan Panjang:5\n",
            "Masukan Lebar:2\n",
            "Hasilnya Adalah:10.0\n"
          ]
        }
      ]
    },
    {
      "cell_type": "code",
      "source": [
        "# Menghitung luas segitiga\n",
        "x = float(input('Masukan Panjang:'))\n",
        "y = float(input('Masukan Tinggi:'))\n",
        "z = x*y\n",
        "print('Hasilnya Adalah:' +str(z))"
      ],
      "metadata": {
        "colab": {
          "base_uri": "https://localhost:8080/"
        },
        "id": "DFhMyXe-GRyR",
        "outputId": "f76470ff-9e5b-411a-f0fa-cde31898e7bb"
      },
      "execution_count": null,
      "outputs": [
        {
          "output_type": "stream",
          "name": "stdout",
          "text": [
            "Masukan Panjang:6\n",
            "Masukan Tinggi:4\n",
            "Hasilnya Adalah:24.0\n"
          ]
        }
      ]
    },
    {
      "cell_type": "code",
      "source": [
        "a,b,c='jeruk','apel','leci'\n",
        "print(a,c,b)"
      ],
      "metadata": {
        "colab": {
          "base_uri": "https://localhost:8080/"
        },
        "id": "LfrupT7leGW1",
        "outputId": "93d366a7-a22c-48fb-cc1d-5d7f6d58cf62"
      },
      "execution_count": null,
      "outputs": [
        {
          "output_type": "stream",
          "name": "stdout",
          "text": [
            "jeruk leci apel\n"
          ]
        }
      ]
    },
    {
      "cell_type": "code",
      "source": [
        "x=y=z='apel'\n",
        "print(x,y,z)"
      ],
      "metadata": {
        "colab": {
          "base_uri": "https://localhost:8080/"
        },
        "id": "Ez22lIrYfZ2_",
        "outputId": "8a25860c-116c-4df9-84be-afa2a82b974f"
      },
      "execution_count": null,
      "outputs": [
        {
          "output_type": "stream",
          "name": "stdout",
          "text": [
            "apel apel apel\n"
          ]
        }
      ]
    },
    {
      "cell_type": "code",
      "source": [
        "fruits=['apel','pisang','leci']\n",
        "a,b,c=fruits\n",
        "print(a,b,c)"
      ],
      "metadata": {
        "colab": {
          "base_uri": "https://localhost:8080/"
        },
        "id": "_x2Dp621fZ-s",
        "outputId": "3c04ee9b-90af-45f2-bac1-7c304946d3ff"
      },
      "execution_count": null,
      "outputs": [
        {
          "output_type": "stream",
          "name": "stdout",
          "text": [
            "apel pisang leci\n"
          ]
        }
      ]
    },
    {
      "cell_type": "code",
      "source": [
        "# percobaan 1\n",
        "a='python is keren'\n",
        "print(a)\n",
        "\n",
        "#percobaan 2\n",
        "a='python'\n",
        "b='is'\n",
        "c='keren'\n",
        "print(a,b,c,)\n",
        "\n",
        "# percobaan 3\n",
        "a='python '\n",
        "b='is '\n",
        "c='keren '\n",
        "print(a+b+c)"
      ],
      "metadata": {
        "colab": {
          "base_uri": "https://localhost:8080/"
        },
        "id": "IYekmWbpfaE2",
        "outputId": "1d8550b4-1d8d-4875-af40-6aa7d049d7f6"
      },
      "execution_count": null,
      "outputs": [
        {
          "output_type": "stream",
          "name": "stdout",
          "text": [
            "python is keren\n",
            "python is keren\n",
            "python is keren \n"
          ]
        }
      ]
    },
    {
      "cell_type": "code",
      "source": [
        "#percobaan 4\n",
        "a=5\n",
        "b=10\n",
        "print(a+b)\n",
        "\n",
        "#percobaan 5\n",
        "a=5\n",
        "b='joni'\n",
        "print(a+b)\n",
        "\n",
        "#percobaan 6\n",
        "a=5\n",
        "b='joni'\n",
        "print(a,b)"
      ],
      "metadata": {
        "colab": {
          "base_uri": "https://localhost:8080/",
          "height": 263
        },
        "id": "_X0F-B6XfaK-",
        "outputId": "059df1f2-6b01-4c91-b9ab-a2ec465f5105"
      },
      "execution_count": null,
      "outputs": [
        {
          "output_type": "stream",
          "name": "stdout",
          "text": [
            "15\n"
          ]
        },
        {
          "output_type": "error",
          "ename": "TypeError",
          "evalue": "ignored",
          "traceback": [
            "\u001b[0;31m---------------------------------------------------------------------------\u001b[0m",
            "\u001b[0;31mTypeError\u001b[0m                                 Traceback (most recent call last)",
            "\u001b[0;32m<ipython-input-15-9dfd06de40e4>\u001b[0m in \u001b[0;36m<module>\u001b[0;34m\u001b[0m\n\u001b[1;32m      7\u001b[0m \u001b[0ma\u001b[0m\u001b[0;34m=\u001b[0m\u001b[0;36m5\u001b[0m\u001b[0;34m\u001b[0m\u001b[0;34m\u001b[0m\u001b[0m\n\u001b[1;32m      8\u001b[0m \u001b[0mb\u001b[0m\u001b[0;34m=\u001b[0m\u001b[0;34m'joni'\u001b[0m\u001b[0;34m\u001b[0m\u001b[0;34m\u001b[0m\u001b[0m\n\u001b[0;32m----> 9\u001b[0;31m \u001b[0mprint\u001b[0m\u001b[0;34m(\u001b[0m\u001b[0ma\u001b[0m\u001b[0;34m+\u001b[0m\u001b[0mb\u001b[0m\u001b[0;34m)\u001b[0m\u001b[0;34m\u001b[0m\u001b[0;34m\u001b[0m\u001b[0m\n\u001b[0m\u001b[1;32m     10\u001b[0m \u001b[0;34m\u001b[0m\u001b[0m\n\u001b[1;32m     11\u001b[0m \u001b[0;31m#percobaan 6\u001b[0m\u001b[0;34m\u001b[0m\u001b[0;34m\u001b[0m\u001b[0;34m\u001b[0m\u001b[0m\n",
            "\u001b[0;31mTypeError\u001b[0m: unsupported operand type(s) for +: 'int' and 'str'"
          ]
        }
      ]
    },
    {
      "cell_type": "code",
      "source": [
        "# percabangan. IF\n",
        "a=100\n",
        "if a>0:\n",
        "  print('Bilangan Positif')\n",
        "print('Selesai')"
      ],
      "metadata": {
        "colab": {
          "base_uri": "https://localhost:8080/"
        },
        "id": "niOJdZ1NfaQP",
        "outputId": "8d07665c-2514-40ac-f040-a79f8d16abe1"
      },
      "execution_count": null,
      "outputs": [
        {
          "output_type": "stream",
          "name": "stdout",
          "text": [
            "Bilangan Positif\n",
            "Selesai\n"
          ]
        }
      ]
    },
    {
      "cell_type": "code",
      "source": [
        "a = float(input('Masukan Angka:'))\n",
        "if a>0:\n",
        "  print('Bilangan Positif')\n",
        "if a<0:\n",
        "  print('Bilangan Negatif')\n",
        "if a==0:\n",
        "  print('Bilangan Nol')\n",
        "print('Selesai')"
      ],
      "metadata": {
        "colab": {
          "base_uri": "https://localhost:8080/"
        },
        "id": "De0hVP6ofaV7",
        "outputId": "17a23719-a21d-4e9c-def5-afbd313dfb28"
      },
      "execution_count": null,
      "outputs": [
        {
          "output_type": "stream",
          "name": "stdout",
          "text": [
            "Masukan Angka:0\n",
            "Bilangan Nol\n",
            "Selesai\n"
          ]
        }
      ]
    },
    {
      "cell_type": "code",
      "source": [
        "a = float(input('Masukan Angka:'))\n",
        "if a>0:\n",
        "  print('Bilangan Positif')\n",
        "  # elif = else if\n",
        "elif a<0:\n",
        "  print('Bilangan Negatif')\n",
        "else:\n",
        "  print('Bilangan Nol')\n",
        "print('Selesai')"
      ],
      "metadata": {
        "colab": {
          "base_uri": "https://localhost:8080/"
        },
        "id": "HvRsucQpfaby",
        "outputId": "bf175e8d-4f0d-4f5d-fc06-4dd36b347c56"
      },
      "execution_count": null,
      "outputs": [
        {
          "output_type": "stream",
          "name": "stdout",
          "text": [
            "Masukan Angka:4\n",
            "Bilangan Positif\n",
            "Selesai\n"
          ]
        }
      ]
    },
    {
      "cell_type": "code",
      "source": [
        "a=8\n",
        "b=3\n",
        "c=a%b\n",
        "print(c)\n",
        "print(type(c))"
      ],
      "metadata": {
        "colab": {
          "base_uri": "https://localhost:8080/"
        },
        "id": "0_EOY-pafaiJ",
        "outputId": "3c2fd21a-ce4e-4cfd-b7d0-bb061ccd599f"
      },
      "execution_count": null,
      "outputs": [
        {
          "output_type": "stream",
          "name": "stdout",
          "text": [
            "2\n",
            "<class 'int'>\n"
          ]
        }
      ]
    },
    {
      "cell_type": "code",
      "source": [
        "print(1%2)\n",
        "print(2%2)\n",
        "print(3%2)\n",
        "print(4%2)\n",
        "print(5%2)\n",
        "print(6%2)\n",
        "print(7%2)\n",
        "print(8%2)\n",
        "print(9%2)\n",
        "print(10%2)"
      ],
      "metadata": {
        "colab": {
          "base_uri": "https://localhost:8080/"
        },
        "id": "ZsTcvh3ffam_",
        "outputId": "807b5fdc-ee4a-4937-8792-bc9935994dd0"
      },
      "execution_count": null,
      "outputs": [
        {
          "output_type": "stream",
          "name": "stdout",
          "text": [
            "1\n",
            "0\n",
            "1\n",
            "0\n",
            "1\n",
            "0\n",
            "1\n",
            "0\n",
            "1\n",
            "0\n"
          ]
        }
      ]
    },
    {
      "cell_type": "code",
      "source": [
        "a=int(input('Masukkan Angka:'))\n",
        "if a%2==0:\n",
        "  print('Bilangan Genap')\n",
        "else:\n",
        "  print('Bilangan Ganjil')"
      ],
      "metadata": {
        "colab": {
          "base_uri": "https://localhost:8080/"
        },
        "id": "UfInEsHefatA",
        "outputId": "d5c58922-9f64-49dc-e827-67817404fa17"
      },
      "execution_count": null,
      "outputs": [
        {
          "output_type": "stream",
          "name": "stdout",
          "text": [
            "Masukkan Angka:3\n",
            "Bilangan Ganjil\n"
          ]
        }
      ]
    },
    {
      "cell_type": "code",
      "source": [
        "# input harga pembelian\n",
        "harga_pembelian = int(input(\"Masukkan harga pembelian: \"))\n",
        "\n",
        "# cek apakah hari ini Sabtu atau Minggu\n",
        "hari = input(\"Masukkan hari : \")\n",
        "if hari.lower() in [\"sabtu\", \"minggu\"]:\n",
        "    diskon_hari = 0.1\n",
        "else:\n",
        "    diskon_hari = 0\n",
        "\n",
        "# hitung diskon berdasarkan harga pembelian\n",
        "if harga_pembelian > 500000:\n",
        "    diskon = 0.1 + diskon_hari\n",
        "elif harga_pembelian >= 200000:\n",
        "    diskon = 0.05 + diskon_hari\n",
        "else:\n",
        "    diskon = diskon_hari\n",
        "\n",
        "# hitung jumlah diskon dan harga yang harus dibayar setelah diskon\n",
        "jumlah_diskon = diskon * harga_pembelian\n",
        "harga_setelah_diskon = harga_pembelian - jumlah_diskon\n",
        "\n",
        "# output hasil perhitungan\n",
        "print(f\"Harga pembelian: Rp{harga_pembelian:,}\")\n",
        "print(f\"Diskon: {diskon*100:.0f}%\")\n",
        "print(f\"Jumlah diskon: Rp{jumlah_diskon:,}\")\n",
        "print(f\"Harga setelah diskon: Rp{harga_setelah_diskon:,}\")"
      ],
      "metadata": {
        "id": "bgth7dyXwsuv"
      },
      "execution_count": null,
      "outputs": []
    },
    {
      "cell_type": "code",
      "source": [],
      "metadata": {
        "id": "qp1w7g5zws0g"
      },
      "execution_count": null,
      "outputs": []
    }
  ]
}